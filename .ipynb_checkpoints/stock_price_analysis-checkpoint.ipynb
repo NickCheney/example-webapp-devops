{
 "cells": [
  {
   "cell_type": "code",
   "execution_count": 1,
   "id": "e600245b",
   "metadata": {},
   "outputs": [],
   "source": [
    "import time\n",
    "from datetime import date, timedelta\n",
    "from matplotlib import pyplot as plt\n",
    "import pandas as pd\n",
    "import numpy as np\n",
    "import yfinance as yf\n",
    "from datetime import datetime\n",
    "from scipy.optimize import curve_fit"
   ]
  },
  {
   "cell_type": "code",
   "execution_count": 2,
   "id": "93c8e514",
   "metadata": {},
   "outputs": [],
   "source": [
    "#records = pd.read_csv('records.csv')\n",
    "records = pd.read_csv('s+p_500_records.csv')\n",
    "records.Date = records.Date.astype('datetime64')"
   ]
  },
  {
   "cell_type": "code",
   "execution_count": 3,
   "id": "f3085a3f",
   "metadata": {},
   "outputs": [],
   "source": [
    "records = records.loc[records.Date.isin(records.Date.value_counts()[records.Date.value_counts() == records.Date.value_counts().max()].index)]"
   ]
  },
  {
   "cell_type": "code",
   "execution_count": 4,
   "id": "3d1ce056",
   "metadata": {},
   "outputs": [
    {
     "data": {
      "text/plain": [
       "2021-04-09    487\n",
       "2019-01-07    487\n",
       "2017-05-31    487\n",
       "2019-10-08    487\n",
       "2018-02-22    487\n",
       "             ... \n",
       "2019-05-28    487\n",
       "2020-07-31    487\n",
       "2018-11-20    487\n",
       "2020-01-24    487\n",
       "2018-07-17    487\n",
       "Name: Date, Length: 1258, dtype: int64"
      ]
     },
     "execution_count": 4,
     "metadata": {},
     "output_type": "execute_result"
    }
   ],
   "source": [
    "records.Date.value_counts()"
   ]
  },
  {
   "cell_type": "code",
   "execution_count": 5,
   "id": "c38f79eb",
   "metadata": {},
   "outputs": [],
   "source": [
    "stocks = records.Symbol.unique()"
   ]
  },
  {
   "cell_type": "code",
   "execution_count": 28,
   "id": "7200d512",
   "metadata": {},
   "outputs": [],
   "source": [
    "def linear(x,a,b):\n",
    "    return a*x + b"
   ]
  },
  {
   "cell_type": "code",
   "execution_count": 6,
   "id": "4f7aaa1e",
   "metadata": {},
   "outputs": [],
   "source": [
    "def quadratic(x,a,b,c):\n",
    "    return a*x**2 + b*x + c"
   ]
  },
  {
   "cell_type": "code",
   "execution_count": 7,
   "id": "2e34602c",
   "metadata": {},
   "outputs": [],
   "source": [
    "def get_r_squared(Stock):\n",
    "    t = np.array([(d - datetime(1970,1,1)).days for d in Stock.Date])\n",
    "    y = Stock['Closing Price'].to_numpy()\n",
    "    popt, pcov = curve_fit(quadratic, t, y)\n",
    "    fit = quadratic(t,*popt)\n",
    "    residuals = y - fit\n",
    "    ss_res = np.sum(residuals**2)\n",
    "    ss_tot = np.sum((y-np.mean(y))**2)\n",
    "    r_squared = 1 - (ss_res / ss_tot)\n",
    "    return r_squared"
   ]
  },
  {
   "cell_type": "code",
   "execution_count": 8,
   "id": "182629e6",
   "metadata": {},
   "outputs": [],
   "source": [
    "def stock_score_data(df, stock, start, stop):\n",
    "    StockDF = df.loc[(df.Symbol == stock) & (df.Date >= start) & (df.Date < stop)]\n",
    "    growth = StockDF['Closing Price'].iloc[-1] / StockDF['Closing Price'].iloc[0]\n",
    "    smoothness = get_r_squared_lin(StockDF)\n",
    "    #smoothness = get_r_squared(StockDF)\n",
    "    \n",
    "    return (smoothness, growth)\n",
    "    "
   ]
  },
  {
   "cell_type": "code",
   "execution_count": 9,
   "id": "47a87459",
   "metadata": {},
   "outputs": [],
   "source": [
    "def get_r_squares(df,start,stop):\n",
    "    m = len(df.Symbol.unique())\n",
    "    \n",
    "    rec_slice = df.loc[(df.Date >= start) & (df.Date < stop)]\n",
    "    \n",
    "    n = len(rec_slice) // m\n",
    "    \n",
    "    y = np.transpose(rec_slice['Closing Price'].values.reshape((m,n)))\n",
    "    \n",
    "    x = [n*[1]]\n",
    "    x.append(list(range(n)))\n",
    "    x = np.transpose(np.array(x))\n",
    "\n",
    "    b = np.matmul(np.matmul(np.linalg.inv(np.matmul(x.T,x)),x.T),y)\n",
    "\n",
    "    fits = np.matmul(x,b)\n",
    "\n",
    "    residuals = y - fits\n",
    "\n",
    "    ss_res = np.sum(residuals**2,axis=0)\n",
    "    ss_tot = np.sum((y - np.mean(y,axis=0))**2,axis=0)\n",
    "\n",
    "    ss_res[ss_tot == 0] = 1.0\n",
    "    ss_tot[ss_tot == 0] = 1.0\n",
    "    \n",
    "    r_squared = 1 - (ss_res / ss_tot)\n",
    "    \n",
    "    return r_squared"
   ]
  },
  {
   "cell_type": "code",
   "execution_count": 10,
   "id": "cc7ce0b7",
   "metadata": {},
   "outputs": [],
   "source": [
    "def get_growths(df, start, end):\n",
    "    return df.loc[df.Date == end]['Closing Price'].values / df.loc[df.Date == start]['Closing Price'].values"
   ]
  },
  {
   "cell_type": "code",
   "execution_count": 11,
   "id": "70d09ef3",
   "metadata": {},
   "outputs": [],
   "source": [
    "def get_price(df, stock, date):\n",
    "    while date not in df.Date.values:\n",
    "        date += pd.Timedelta(1,'d')\n",
    "    return df.loc[(df.Date == date) & (df.Symbol == stock)]['Closing Price'].iloc[0]"
   ]
  },
  {
   "cell_type": "code",
   "execution_count": 12,
   "id": "85de2e96",
   "metadata": {},
   "outputs": [],
   "source": [
    "def get_prices(df,date):\n",
    "    while date not in df.Date.values:\n",
    "        date += pd.Timedelta(1,'d')\n",
    "    return df.loc[df.Date == date]['Closing Price'].values"
   ]
  },
  {
   "cell_type": "code",
   "execution_count": 68,
   "id": "1dc76552",
   "metadata": {},
   "outputs": [
    {
     "name": "stdout",
     "output_type": "stream",
     "text": [
      "On 2017-01-02 \n",
      "\t\tBuy:  PFG, CFG, NVDA\n",
      "\t\tHold: \n",
      "\t\tSell: \n",
      "{'PFG': 5.0, 'CFG': 9.0, 'NVDA': 3.0}\n",
      "Assets: 921.6700000000001\n",
      "Cash: 48.329999999999984\n",
      "Net: 970.0\n",
      "On 2017-06-19 \n",
      "\t\tBuy:  ATVI, WYNN, NVR\n",
      "\t\tHold: \n",
      "\t\tSell: PFG, CFG, NVDA\n",
      "{'ATVI': 6.0, 'WYNN': 2.0}\n",
      "Assets: 638.76\n",
      "Cash: 489.8799999999998\n",
      "Net: 1128.6399999999999\n",
      "On 2017-12-04 \n",
      "\t\tBuy:  DLTR, CBOE, TDY\n",
      "\t\tHold: \n",
      "\t\tSell: ATVI, WYNN\n",
      "{'DLTR': 3.0, 'CBOE': 3.0, 'TDY': 2.0}\n",
      "Assets: 1052.28\n",
      "Cash: 55.33999999999992\n",
      "Net: 1107.62\n",
      "On 2018-05-21 \n",
      "\t\tBuy:  ABMD, FTNT, ADBE\n",
      "\t\tHold: \n",
      "\t\tSell: DLTR, CBOE, TDY\n",
      "{'FTNT': 8.0, 'ADBE': 2.0}\n",
      "Assets: 950.76\n",
      "Cash: 55.06999999999999\n",
      "Net: 1005.8299999999999\n",
      "On 2018-11-05 \n",
      "\t\tBuy:  MKC, LLY, MRK\n",
      "\t\tHold: \n",
      "\t\tSell: FTNT, ADBE\n",
      "{'MKC': 4.0, 'LLY': 3.0, 'MRK': 6.0}\n",
      "Assets: 1062.8400000000001\n",
      "Cash: 20.969999999999857\n",
      "Net: 1083.81\n",
      "On 2019-04-22 \n",
      "\t\tBuy:  KEYS, ENPH, XLNX\n",
      "\t\tHold: \n",
      "\t\tSell: MKC, LLY, MRK\n",
      "{'KEYS': 3.0, 'ENPH': 42.0, 'XLNX': 2.0}\n",
      "Assets: 930.41\n",
      "Cash: 123.06999999999982\n",
      "Net: 1053.4799999999998\n",
      "On 2019-10-07 \n",
      "\t\tBuy:  AIZ, ETR, GNRC\n",
      "\t\tHold: \n",
      "\t\tSell: KEYS, ENPH, XLNX\n",
      "{'AIZ': 4.0, 'ETR': 4.0, 'GNRC': 7.0}\n",
      "Assets: 1518.46\n",
      "Cash: 15.999999999999659\n",
      "Net: 1534.4599999999996\n",
      "On 2020-03-23 \n",
      "\t\tBuy:  REGN, KR, TSLA\n",
      "\t\tHold: \n",
      "\t\tSell: AIZ, ETR, GNRC\n",
      "{'KR': 19.0, 'TSLA': 7.0}\n",
      "Assets: 1198.526\n",
      "Cash: 5.983999999999696\n",
      "Net: 1204.5099999999998\n",
      "On 2020-09-07 \n",
      "\t\tBuy:  PENN, FCX, ETSY\n",
      "\t\tHold: \n",
      "\t\tSell: KR, TSLA\n",
      "{'PENN': 17.0, 'FCX': 63.0, 'ETSY': 8.0}\n",
      "Assets: 2815.11\n",
      "Cash: 110.12399999999946\n",
      "Net: 2925.2339999999995\n",
      "On 2021-02-22 \n",
      "\t\tBuy:  TPR, IVZ, ENPH\n",
      "\t\tHold: \n",
      "\t\tSell: PENN, FCX, ETSY\n",
      "{'TPR': 50.0, 'IVZ': 90.0, 'ENPH': 12.0}\n",
      "Assets: 6107.52\n",
      "Cash: 49.543999999999414\n",
      "Net: 6157.064\n"
     ]
    }
   ],
   "source": [
    "period = pd.Timedelta(24,'w')\n",
    "hist_per = pd.Timedelta(24,'w')\n",
    "\n",
    "#date = records.Date.max() - pd.Timedelta(104,'w')\n",
    "date = records.Date.min() + hist_per\n",
    "max_date = records.Date.max()\n",
    "prev = {}\n",
    "\n",
    "cash = 1000\n",
    "fee = 10.0\n",
    "num = 3\n",
    "\n",
    "graph = False\n",
    "\n",
    "while date <= max_date:\n",
    "    start_prices = get_prices(records, date - hist_per)\n",
    "    end_prices = get_prices(records, date)\n",
    "    growths = (end_prices - start_prices ) / start_prices\n",
    "\n",
    "    smoothness = get_r_squares(records, date - hist_per, date)\n",
    "    prices = dict(list(zip(records.Symbol.unique(),end_prices)))\n",
    "    \n",
    "    ratings = list(zip(records.Symbol.unique(),growths,smoothness))\n",
    "    ratings.sort(key = lambda x: x[1]*x[2]**10,reverse=True)\n",
    "        \n",
    "    top = [x[0] for x in ratings[:num]]\n",
    "    holding = {}\n",
    "    \n",
    "    new = [s for s in top if s not in prev.keys()]\n",
    "    hold = [s for s in top if s in prev.keys()]\n",
    "    #hold = [s for s in prev.keys() if get_price(records, s, date) > get_price(records,s,date - period)]\n",
    "    sell = [s for s in prev.keys() if s not in top]\n",
    "    \n",
    "    #if len(new) + len(hold)\n",
    "    for s in sell:\n",
    "        cash += prev[s]*prices[s] - fee\n",
    "    for h in hold:\n",
    "        holding[h] = prev[h]\n",
    "    for i in range(len(new)):\n",
    "        amt = cash/(len(new) - i) - fee\n",
    "        qnt = amt // prices[new[i]]\n",
    "        if qnt < 1:\n",
    "            continue\n",
    "        holding[new[i]] = qnt\n",
    "        cash -= (qnt*prices[new[i]] + fee)\n",
    "        #print(cash)\n",
    "    \n",
    "    print('On',(date).date(),'\\n\\t\\tBuy: ',', '.join(new))\n",
    "    print('\\t\\tHold:',', '.join(hold))\n",
    "    print('\\t\\tSell:',', '.join(sell))\n",
    "    \n",
    "    print(holding)\n",
    "    assets = sum([holding[x]*prices[x] for x in holding.keys()])\n",
    "    print('Assets:',assets)\n",
    "    print('Cash:',cash)\n",
    "    print('Net:',assets+cash)\n",
    "    \n",
    "    \n",
    "    if graph:\n",
    "        for s in top:\n",
    "            plot_stock_lin(records,s,date - hist_per,date)\n",
    "            plot_stock_lin(records,s,date,date+period)\n",
    "            plt.show()\n",
    "    \n",
    "    \n",
    "    prev = holding\n",
    "    date += period\n",
    "\n",
    "\n"
   ]
  },
  {
   "cell_type": "code",
   "execution_count": 1,
   "id": "bd0a38bf",
   "metadata": {},
   "outputs": [
    {
     "data": {
      "text/plain": [
       "'for s in ratings[:100]:\\n    plot_stock_lin(records,s[0],date - hist_per,date)\\n    plot_stock_lin(records,s[0],date,date+period)\\n    plt.show()'"
      ]
     },
     "execution_count": 1,
     "metadata": {},
     "output_type": "execute_result"
    }
   ],
   "source": [
    "'''for s in ratings[:100]:\n",
    "    plot_stock_lin(records,s[0],date - hist_per,date)\n",
    "    plot_stock_lin(records,s[0],date,date+period)\n",
    "    plt.show()'''"
   ]
  },
  {
   "cell_type": "code",
   "execution_count": 19,
   "id": "a156818b",
   "metadata": {},
   "outputs": [],
   "source": [
    "def get_growth(df, stocks, period):\n",
    "    growths = np.zeros(len(stocks))\n",
    "    \n",
    "    StockDF = df.loc[(df.Symbol == stock) & (df.Date >= (pd.Timestamp('today') - pd.Timedelta(period,'d')))]\n",
    "    growth = StockDF['Closing Price'].iloc[-1] / StockDF['Closing Price'].iloc[0]\n",
    "    \n",
    "    return (smoothness, growth)"
   ]
  },
  {
   "cell_type": "code",
   "execution_count": 2,
   "id": "05bcda82",
   "metadata": {},
   "outputs": [
    {
     "data": {
      "text/plain": [
       "\"\\n#%timeit -n2 stock_score_data(records, 'MSFT', 90)\\nmax = 5*365\\nfor i in range(max):\\n    print(len(records.loc[records.Date == (pd.Timestamp('today') - pd.Timedelta(i,'d')).normalize()]))\\n\""
      ]
     },
     "execution_count": 2,
     "metadata": {},
     "output_type": "execute_result"
    }
   ],
   "source": [
    "'''\n",
    "#%timeit -n2 stock_score_data(records, 'MSFT', 90)\n",
    "max = 5*365\n",
    "for i in range(max):\n",
    "    print(len(records.loc[records.Date == (pd.Timestamp('today') - pd.Timedelta(i,'d')).normalize()]))\n",
    "'''"
   ]
  },
  {
   "cell_type": "code",
   "execution_count": 21,
   "id": "89770f8e",
   "metadata": {},
   "outputs": [
    {
     "data": {
      "text/plain": [
       "13.977777777777778"
      ]
     },
     "execution_count": 21,
     "metadata": {},
     "output_type": "execute_result"
    }
   ],
   "source": [
    "len(records.Date.unique()) / 90"
   ]
  },
  {
   "cell_type": "code",
   "execution_count": 22,
   "id": "41058c37",
   "metadata": {},
   "outputs": [],
   "source": [
    "def plot_stock(df, stock, start, stop):\n",
    "    StockDF = df.loc[(df.Symbol == stock) & (df.Date >= start) & (df.Date < stop)]\n",
    "    t = np.array([(d - datetime(1970,1,1)).days for d in StockDF.Date])\n",
    "    y = StockDF['Closing Price'].to_numpy()\n",
    "    popt, pcov = curve_fit(quadratic, t, y)\n",
    "    fit = quadratic(t,*popt)\n",
    "    plt.plot(t,y)\n",
    "    plt.plot(t,fit)\n",
    "    plt.title(stock)\n",
    "    #plt.show()"
   ]
  },
  {
   "cell_type": "code",
   "execution_count": 23,
   "id": "ecc99567",
   "metadata": {},
   "outputs": [],
   "source": [
    "def plot_stock_lin(df, stock, start, stop):\n",
    "    StockDF = df.loc[(df.Symbol == stock) & (df.Date >= start) & (df.Date < stop)]\n",
    "    t = np.array([(d - datetime(1970,1,1)).days for d in StockDF.Date])\n",
    "    y = StockDF['Closing Price'].to_numpy()\n",
    "    popt, pcov = curve_fit(linear, t, y)\n",
    "    fit = linear(t,*popt)\n",
    "    plt.plot(t,y)\n",
    "    plt.plot(t,fit)\n",
    "    plt.title(stock)\n",
    "    #plt.show()"
   ]
  },
  {
   "cell_type": "code",
   "execution_count": 26,
   "id": "8d2d5874",
   "metadata": {},
   "outputs": [
    {
     "name": "stdout",
     "output_type": "stream",
     "text": [
      "0 / 487\n"
     ]
    },
    {
     "ename": "NameError",
     "evalue": "name 'get_r_squared_lin' is not defined",
     "output_type": "error",
     "traceback": [
      "\u001b[1;31m---------------------------------------------------------------------------\u001b[0m",
      "\u001b[1;31mNameError\u001b[0m                                 Traceback (most recent call last)",
      "\u001b[1;32m~\\AppData\\Local\\Temp/ipykernel_25004/1593783128.py\u001b[0m in \u001b[0;36m<module>\u001b[1;34m\u001b[0m\n\u001b[0;32m      2\u001b[0m \u001b[1;32mfor\u001b[0m \u001b[0mi\u001b[0m \u001b[1;32min\u001b[0m \u001b[0mrange\u001b[0m\u001b[1;33m(\u001b[0m\u001b[0mlen\u001b[0m\u001b[1;33m(\u001b[0m\u001b[0mstocks\u001b[0m\u001b[1;33m)\u001b[0m\u001b[1;33m)\u001b[0m\u001b[1;33m:\u001b[0m\u001b[1;33m\u001b[0m\u001b[1;33m\u001b[0m\u001b[0m\n\u001b[0;32m      3\u001b[0m     \u001b[0mprint\u001b[0m\u001b[1;33m(\u001b[0m\u001b[0mi\u001b[0m\u001b[1;33m,\u001b[0m\u001b[1;34m'/'\u001b[0m\u001b[1;33m,\u001b[0m\u001b[0mlen\u001b[0m\u001b[1;33m(\u001b[0m\u001b[0mstocks\u001b[0m\u001b[1;33m)\u001b[0m\u001b[1;33m)\u001b[0m\u001b[1;33m\u001b[0m\u001b[1;33m\u001b[0m\u001b[0m\n\u001b[1;32m----> 4\u001b[1;33m     \u001b[0mscores\u001b[0m\u001b[1;33m.\u001b[0m\u001b[0mappend\u001b[0m\u001b[1;33m(\u001b[0m\u001b[0mstock_score_data\u001b[0m\u001b[1;33m(\u001b[0m\u001b[0mrecords\u001b[0m\u001b[1;33m,\u001b[0m \u001b[0mstocks\u001b[0m\u001b[1;33m[\u001b[0m\u001b[0mi\u001b[0m\u001b[1;33m]\u001b[0m\u001b[1;33m,\u001b[0m \u001b[0mrecords\u001b[0m\u001b[1;33m.\u001b[0m\u001b[0mDate\u001b[0m\u001b[1;33m.\u001b[0m\u001b[0mmax\u001b[0m\u001b[1;33m(\u001b[0m\u001b[1;33m)\u001b[0m \u001b[1;33m-\u001b[0m \u001b[0mpd\u001b[0m\u001b[1;33m.\u001b[0m\u001b[0mTimedelta\u001b[0m\u001b[1;33m(\u001b[0m\u001b[1;36m360\u001b[0m\u001b[1;33m,\u001b[0m\u001b[1;34m'd'\u001b[0m\u001b[1;33m)\u001b[0m\u001b[1;33m,\u001b[0m\u001b[0mrecords\u001b[0m\u001b[1;33m.\u001b[0m\u001b[0mDate\u001b[0m\u001b[1;33m.\u001b[0m\u001b[0mmax\u001b[0m\u001b[1;33m(\u001b[0m\u001b[1;33m)\u001b[0m \u001b[1;33m-\u001b[0m \u001b[0mpd\u001b[0m\u001b[1;33m.\u001b[0m\u001b[0mTimedelta\u001b[0m\u001b[1;33m(\u001b[0m\u001b[1;36m180\u001b[0m\u001b[1;33m,\u001b[0m\u001b[1;34m'd'\u001b[0m\u001b[1;33m)\u001b[0m\u001b[1;33m)\u001b[0m\u001b[1;33m)\u001b[0m\u001b[1;33m\u001b[0m\u001b[1;33m\u001b[0m\u001b[0m\n\u001b[0m",
      "\u001b[1;32m~\\AppData\\Local\\Temp/ipykernel_25004/1327199115.py\u001b[0m in \u001b[0;36mstock_score_data\u001b[1;34m(df, stock, start, stop)\u001b[0m\n\u001b[0;32m      2\u001b[0m     \u001b[0mStockDF\u001b[0m \u001b[1;33m=\u001b[0m \u001b[0mdf\u001b[0m\u001b[1;33m.\u001b[0m\u001b[0mloc\u001b[0m\u001b[1;33m[\u001b[0m\u001b[1;33m(\u001b[0m\u001b[0mdf\u001b[0m\u001b[1;33m.\u001b[0m\u001b[0mSymbol\u001b[0m \u001b[1;33m==\u001b[0m \u001b[0mstock\u001b[0m\u001b[1;33m)\u001b[0m \u001b[1;33m&\u001b[0m \u001b[1;33m(\u001b[0m\u001b[0mdf\u001b[0m\u001b[1;33m.\u001b[0m\u001b[0mDate\u001b[0m \u001b[1;33m>=\u001b[0m \u001b[0mstart\u001b[0m\u001b[1;33m)\u001b[0m \u001b[1;33m&\u001b[0m \u001b[1;33m(\u001b[0m\u001b[0mdf\u001b[0m\u001b[1;33m.\u001b[0m\u001b[0mDate\u001b[0m \u001b[1;33m<\u001b[0m \u001b[0mstop\u001b[0m\u001b[1;33m)\u001b[0m\u001b[1;33m]\u001b[0m\u001b[1;33m\u001b[0m\u001b[1;33m\u001b[0m\u001b[0m\n\u001b[0;32m      3\u001b[0m     \u001b[0mgrowth\u001b[0m \u001b[1;33m=\u001b[0m \u001b[0mStockDF\u001b[0m\u001b[1;33m[\u001b[0m\u001b[1;34m'Closing Price'\u001b[0m\u001b[1;33m]\u001b[0m\u001b[1;33m.\u001b[0m\u001b[0miloc\u001b[0m\u001b[1;33m[\u001b[0m\u001b[1;33m-\u001b[0m\u001b[1;36m1\u001b[0m\u001b[1;33m]\u001b[0m \u001b[1;33m/\u001b[0m \u001b[0mStockDF\u001b[0m\u001b[1;33m[\u001b[0m\u001b[1;34m'Closing Price'\u001b[0m\u001b[1;33m]\u001b[0m\u001b[1;33m.\u001b[0m\u001b[0miloc\u001b[0m\u001b[1;33m[\u001b[0m\u001b[1;36m0\u001b[0m\u001b[1;33m]\u001b[0m\u001b[1;33m\u001b[0m\u001b[1;33m\u001b[0m\u001b[0m\n\u001b[1;32m----> 4\u001b[1;33m     \u001b[0msmoothness\u001b[0m \u001b[1;33m=\u001b[0m \u001b[0mget_r_squared_lin\u001b[0m\u001b[1;33m(\u001b[0m\u001b[0mStockDF\u001b[0m\u001b[1;33m)\u001b[0m\u001b[1;33m\u001b[0m\u001b[1;33m\u001b[0m\u001b[0m\n\u001b[0m\u001b[0;32m      5\u001b[0m     \u001b[1;31m#smoothness = get_r_squared(StockDF)\u001b[0m\u001b[1;33m\u001b[0m\u001b[1;33m\u001b[0m\u001b[1;33m\u001b[0m\u001b[0m\n\u001b[0;32m      6\u001b[0m \u001b[1;33m\u001b[0m\u001b[0m\n",
      "\u001b[1;31mNameError\u001b[0m: name 'get_r_squared_lin' is not defined"
     ]
    }
   ],
   "source": [
    "scores = []\n",
    "for i in range(len(stocks)):\n",
    "    print(i,'/',len(stocks))\n",
    "    scores.append(stock_score_data(records, stocks[i], records.Date.max() - pd.Timedelta(360,'d'),records.Date.max() - pd.Timedelta(180,'d')))"
   ]
  },
  {
   "cell_type": "code",
   "execution_count": 25,
   "id": "bb247617",
   "metadata": {},
   "outputs": [],
   "source": [
    "r_sq = [s[0] for s in scores]\n",
    "growth = [g[1] for g in scores]\n",
    "rankings = list(zip(stocks, r_sq,growth))\n",
    "rankings.sort(key = lambda x: x[2]*x[1]**1000,reverse=True)\n",
    "\n",
    "srt = 0\n",
    "sz = 10\n",
    "\n",
    "ps0 = records.Date.max() - pd.Timedelta(360,'d')\n",
    "pe0 = records.Date.max() - pd.Timedelta(180,'d')\n",
    "\n",
    "p_start = records.Date.max() - pd.Timedelta(180,'d')\n",
    "p_end = records.Date.max() - pd.Timedelta(0,'d')\n",
    "\n",
    "for stock,sq,g in rankings[srt:srt+sz]:\n",
    "    plot_stock_lin(records,stock,ps0,pe0)\n",
    "    plot_stock_lin(records,stock,p_start,p_end)\n",
    "    plt.show()"
   ]
  },
  {
   "cell_type": "code",
   "execution_count": null,
   "id": "63d7b8a4",
   "metadata": {},
   "outputs": [],
   "source": []
  }
 ],
 "metadata": {
  "kernelspec": {
   "display_name": "Python 3 (ipykernel)",
   "language": "python",
   "name": "python3"
  },
  "language_info": {
   "codemirror_mode": {
    "name": "ipython",
    "version": 3
   },
   "file_extension": ".py",
   "mimetype": "text/x-python",
   "name": "python",
   "nbconvert_exporter": "python",
   "pygments_lexer": "ipython3",
   "version": "3.9.4"
  }
 },
 "nbformat": 4,
 "nbformat_minor": 5
}
