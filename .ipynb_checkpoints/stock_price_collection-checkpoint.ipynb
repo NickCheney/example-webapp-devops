{
 "cells": [
  {
   "cell_type": "code",
   "execution_count": 2,
   "metadata": {},
   "outputs": [],
   "source": [
    "import time\n",
    "from datetime import date, timedelta\n",
    "import matplotlib as plt\n",
    "import pandas as pd\n",
    "import numpy as np\n",
    "#import yfinance as yf\n",
    "import finnhub"
   ]
  },
  {
   "cell_type": "code",
   "execution_count": null,
   "metadata": {},
   "outputs": [],
   "source": [
    "#f = open('symbols.txt')\n",
    "f = open('S+P_Symbols.txt')\n",
    "symbols = f.read().split(',')\n",
    "f.close()\n",
    "print(len(symbols))"
   ]
  },
  {
   "cell_type": "code",
   "execution_count": null,
   "metadata": {},
   "outputs": [],
   "source": [
    "date = np.array([],dtype='datetime64')\n",
    "symbol = np.array([],dtype='object')\n",
    "close = np.array([])"
   ]
  },
  {
   "cell_type": "code",
   "execution_count": null,
   "metadata": {},
   "outputs": [],
   "source": [
    "finnhub_client = finnhub.Client(api_key=\"c3o7claad3ia07uemr30\")"
   ]
  },
  {
   "cell_type": "code",
   "execution_count": null,
   "metadata": {},
   "outputs": [],
   "source": [
    "for i in range(len(symbols)):\n",
    "    #stock = yf.Ticker(symbols[i])\n",
    "    #hist = stock.history(period='5y')['Close']\n",
    "    \n",
    "    res = finnhub_client.stock_candles(symbols[i], 'D', start, now)\n",
    "    hist = pd.DataFrame(res)\n",
    "    \n",
    "    \n",
    "    \n",
    "    #print(i,'/',len(symbols))\n",
    "    \n",
    "    #dates = hist.index.to_series().to_numpy(dtype='datetime64')\n",
    "    deltas = pd.Series(pd.to_timedelta((hist.t / 86400).astype(int),unit='days'))\n",
    "    dates = pd.Series(pd.Timestamp('1970-01-01')).repeat(len(deltas)).reset_index()[0] + deltas\n",
    "    dates = dates.values.astype('datetime64[D]')\n",
    "    \n",
    "    date = np.concatenate([date,dates])\n",
    "    \n",
    "    l = len(dates)\n",
    "    symbol = np.concatenate([symbol,np.array(l*[symbols[i]])])\n",
    "    \n",
    "    close = np.concatenate([close,hist.c.to_numpy()])\n",
    "    \n",
    "    time.sleep(1.0)\n",
    "    "
   ]
  },
  {
   "cell_type": "code",
   "execution_count": 131,
   "metadata": {},
   "outputs": [
    {
     "data": {
      "text/plain": [
       "APD      1258\n",
       "BK       1258\n",
       "NOW      1258\n",
       "SCHW     1258\n",
       "LUMN     1258\n",
       "         ... \n",
       "OTIS      334\n",
       "ZION      150\n",
       "SBAC      150\n",
       "DISCK     150\n",
       "OGN        30\n",
       "Name: Symbol, Length: 505, dtype: int64"
      ]
     },
     "execution_count": 131,
     "metadata": {},
     "output_type": "execute_result"
    }
   ],
   "source": [
    "records = pd.DataFrame({'Date':date,'Symbol':symbol,'Closing Price':close})\n",
    "records = records.drop_duplicates()\n",
    "records.Symbol.value_counts()"
   ]
  },
  {
   "cell_type": "code",
   "execution_count": 132,
   "metadata": {},
   "outputs": [
    {
     "data": {
      "text/html": [
       "<div>\n",
       "<style scoped>\n",
       "    .dataframe tbody tr th:only-of-type {\n",
       "        vertical-align: middle;\n",
       "    }\n",
       "\n",
       "    .dataframe tbody tr th {\n",
       "        vertical-align: top;\n",
       "    }\n",
       "\n",
       "    .dataframe thead th {\n",
       "        text-align: right;\n",
       "    }\n",
       "</style>\n",
       "<table border=\"1\" class=\"dataframe\">\n",
       "  <thead>\n",
       "    <tr style=\"text-align: right;\">\n",
       "      <th></th>\n",
       "      <th>Date</th>\n",
       "      <th>Symbol</th>\n",
       "      <th>Closing Price</th>\n",
       "    </tr>\n",
       "  </thead>\n",
       "  <tbody>\n",
       "    <tr>\n",
       "      <th>0</th>\n",
       "      <td>2016-07-18</td>\n",
       "      <td>MMM</td>\n",
       "      <td>181.110</td>\n",
       "    </tr>\n",
       "    <tr>\n",
       "      <th>1</th>\n",
       "      <td>2016-07-19</td>\n",
       "      <td>MMM</td>\n",
       "      <td>181.240</td>\n",
       "    </tr>\n",
       "    <tr>\n",
       "      <th>2</th>\n",
       "      <td>2016-07-20</td>\n",
       "      <td>MMM</td>\n",
       "      <td>181.420</td>\n",
       "    </tr>\n",
       "    <tr>\n",
       "      <th>3</th>\n",
       "      <td>2016-07-21</td>\n",
       "      <td>MMM</td>\n",
       "      <td>180.260</td>\n",
       "    </tr>\n",
       "    <tr>\n",
       "      <th>4</th>\n",
       "      <td>2016-07-22</td>\n",
       "      <td>MMM</td>\n",
       "      <td>180.440</td>\n",
       "    </tr>\n",
       "    <tr>\n",
       "      <th>...</th>\n",
       "      <td>...</td>\n",
       "      <td>...</td>\n",
       "      <td>...</td>\n",
       "    </tr>\n",
       "    <tr>\n",
       "      <th>624030</th>\n",
       "      <td>2021-07-09</td>\n",
       "      <td>ZTS</td>\n",
       "      <td>197.500</td>\n",
       "    </tr>\n",
       "    <tr>\n",
       "      <th>624031</th>\n",
       "      <td>2021-07-12</td>\n",
       "      <td>ZTS</td>\n",
       "      <td>198.330</td>\n",
       "    </tr>\n",
       "    <tr>\n",
       "      <th>624032</th>\n",
       "      <td>2021-07-13</td>\n",
       "      <td>ZTS</td>\n",
       "      <td>199.310</td>\n",
       "    </tr>\n",
       "    <tr>\n",
       "      <th>624033</th>\n",
       "      <td>2021-07-14</td>\n",
       "      <td>ZTS</td>\n",
       "      <td>201.280</td>\n",
       "    </tr>\n",
       "    <tr>\n",
       "      <th>624034</th>\n",
       "      <td>2021-07-15</td>\n",
       "      <td>ZTS</td>\n",
       "      <td>200.545</td>\n",
       "    </tr>\n",
       "  </tbody>\n",
       "</table>\n",
       "<p>612646 rows × 3 columns</p>\n",
       "</div>"
      ],
      "text/plain": [
       "             Date Symbol  Closing Price\n",
       "0      2016-07-18    MMM        181.110\n",
       "1      2016-07-19    MMM        181.240\n",
       "2      2016-07-20    MMM        181.420\n",
       "3      2016-07-21    MMM        180.260\n",
       "4      2016-07-22    MMM        180.440\n",
       "...           ...    ...            ...\n",
       "624030 2021-07-09    ZTS        197.500\n",
       "624031 2021-07-12    ZTS        198.330\n",
       "624032 2021-07-13    ZTS        199.310\n",
       "624033 2021-07-14    ZTS        201.280\n",
       "624034 2021-07-15    ZTS        200.545\n",
       "\n",
       "[612646 rows x 3 columns]"
      ]
     },
     "execution_count": 132,
     "metadata": {},
     "output_type": "execute_result"
    }
   ],
   "source": [
    "accept = records.Symbol.value_counts() == records.Symbol.value_counts().mode()[0]\n",
    "\n",
    "records = records.loc[records.Symbol.isin(accept.loc[accept].index)]\n",
    "records"
   ]
  },
  {
   "cell_type": "code",
   "execution_count": 133,
   "metadata": {},
   "outputs": [],
   "source": [
    "records.to_csv('s+p_500_records.csv',index=False)"
   ]
  },
  {
   "cell_type": "code",
   "execution_count": null,
   "metadata": {},
   "outputs": [],
   "source": []
  }
 ],
 "metadata": {
  "kernelspec": {
   "display_name": "Python 3 (ipykernel)",
   "language": "python",
   "name": "python3"
  },
  "language_info": {
   "codemirror_mode": {
    "name": "ipython",
    "version": 3
   },
   "file_extension": ".py",
   "mimetype": "text/x-python",
   "name": "python",
   "nbconvert_exporter": "python",
   "pygments_lexer": "ipython3",
   "version": "3.9.4"
  }
 },
 "nbformat": 4,
 "nbformat_minor": 4
}
